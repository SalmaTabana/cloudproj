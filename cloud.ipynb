{
 "cells": [
  {
   "cell_type": "code",
   "execution_count": null,
   "id": "356347fe-6ae8-4550-866c-ec36f288ca80",
   "metadata": {},
   "outputs": [
    {
     "name": "stdout",
     "output_type": "stream",
     "text": [
      " * Serving Flask app '__main__'\n",
      " * Debug mode: on\n"
     ]
    },
    {
     "name": "stderr",
     "output_type": "stream",
     "text": [
      "WARNING: This is a development server. Do not use it in a production deployment. Use a production WSGI server instead.\n",
      " * Running on http://127.0.0.1:5000\n",
      "Press CTRL+C to quit\n"
     ]
    },
    {
     "name": "stdout",
     "output_type": "stream",
     "text": [
      "Received file: Cloud Computing Lecture 2.pdf, Content-Type: application/pdf\n",
      "Starting upload...\n"
     ]
    },
    {
     "name": "stderr",
     "output_type": "stream",
     "text": [
      "127.0.0.1 - - [06/May/2025 11:35:57] \"POST /upload HTTP/1.1\" 200 -\n",
      "127.0.0.1 - - [06/May/2025 11:35:57] \"GET /favicon.ico HTTP/1.1\" 404 -\n"
     ]
    },
    {
     "name": "stdout",
     "output_type": "stream",
     "text": [
      "Received file: cloudreport.pdf, Content-Type: application/pdf\n",
      "Starting upload...\n",
      "Received file: cloudreport.pdf, Content-Type: application/pdf\n",
      "Starting upload...\n"
     ]
    },
    {
     "name": "stderr",
     "output_type": "stream",
     "text": [
      "127.0.0.1 - - [06/May/2025 12:54:08] \"POST /upload HTTP/1.1\" 200 -\n"
     ]
    },
    {
     "name": "stdout",
     "output_type": "stream",
     "text": [
      "Received file: cloudreport.pdf, Content-Type: application/pdf\n",
      "Starting upload...\n"
     ]
    },
    {
     "name": "stderr",
     "output_type": "stream",
     "text": [
      "127.0.0.1 - - [06/May/2025 12:55:17] \"POST /upload HTTP/1.1\" 200 -\n"
     ]
    }
   ],
   "source": [
    "from flask import Flask, request, jsonify\n",
    "import boto3\n",
    "app = Flask(__name__)\n",
    "s3 = boto3.client(\n",
    "    's3',\n",
    "    region_name='us-east-1',  \n",
    "    aws_access_key_id='#Add your id',\n",
    "    aws_secret_access_key='#Add yours'\n",
    ")\n",
    "BUCKET_NAME = 'omnia-shahd'\n",
    "@app.route('/upload', methods=['POST'])\n",
    "def upload_file():\n",
    "    if 'file' not in request.files:\n",
    "        return jsonify({'error': 'No file part'}), 400\n",
    "    file = request.files['file']\n",
    "    if file.filename == '':\n",
    "        return jsonify({'error': 'No selected file'}), 400\n",
    "    print(f\"Received file: {file.filename}, Content-Type: {file.content_type}\")\n",
    "    try:\n",
    "        content_type = file.content_type or 'application/octet-stream'\n",
    "        print(\"Starting upload...\")\n",
    "\n",
    "        s3.upload_fileobj(\n",
    "            file,\n",
    "            BUCKET_NAME,\n",
    "            file.filename,\n",
    "            ExtraArgs={'ContentType':content_type}\n",
    "             \n",
    "        )\n",
    "        download_link = f\"https://omnia-shahd.s3.amazonaws.com/{file.filename}\"\n",
    "        return jsonify({'download_link': download_link}), 200\n",
    "    except Exception as e:\n",
    "       import traceback\n",
    "       print(\"Error during upload:\")\n",
    "       traceback.print_exc()\n",
    "       return jsonify({'error': str(e)}), 500\n",
    "\n",
    "\n",
    "if __name__ == \"__main__\":\n",
    "    app.run(debug=True,use_reloader=False)"
   ]
  },
  {
   "cell_type": "code",
   "execution_count": null,
   "id": "9c288f7e-6d6c-4df8-9de9-d993f0357b62",
   "metadata": {},
   "outputs": [],
   "source": []
  },
  {
   "cell_type": "code",
   "execution_count": null,
   "id": "f58258f4-350f-42d0-934a-3dc3cfb954f4",
   "metadata": {},
   "outputs": [],
   "source": []
  }
 ],
 "metadata": {
  "kernelspec": {
   "display_name": "Python [conda env:base] *",
   "language": "python",
   "name": "conda-base-py"
  },
  "language_info": {
   "codemirror_mode": {
    "name": "ipython",
    "version": 3
   },
   "file_extension": ".py",
   "mimetype": "text/x-python",
   "name": "python",
   "nbconvert_exporter": "python",
   "pygments_lexer": "ipython3",
   "version": "3.12.7"
  }
 },
 "nbformat": 4,
 "nbformat_minor": 5
}
